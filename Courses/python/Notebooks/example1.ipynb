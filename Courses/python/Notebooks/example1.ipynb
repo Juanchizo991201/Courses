{
 "metadata": {
  "language_info": {
   "codemirror_mode": {
    "name": "ipython",
    "version": 3
   },
   "file_extension": ".py",
   "mimetype": "text/x-python",
   "name": "python",
   "nbconvert_exporter": "python",
   "pygments_lexer": "ipython3",
   "version": "3.8.5"
  },
  "orig_nbformat": 2,
  "kernelspec": {
   "name": "python385jvsc74a57bd031f2aee4e71d21fbe5cf8b01ff0e069b9275f58929596ceb00d14d90e3e16cd6",
   "display_name": "Python 3.8.5 64-bit"
  },
  "metadata": {
   "interpreter": {
    "hash": "31f2aee4e71d21fbe5cf8b01ff0e069b9275f58929596ceb00d14d90e3e16cd6"
   }
  }
 },
 "nbformat": 4,
 "nbformat_minor": 2,
 "cells": [
  {
   "cell_type": "code",
   "execution_count": 2,
   "metadata": {},
   "outputs": [],
   "source": [
    "import numpy as np\n",
    "\n"
   ]
  },
  {
   "cell_type": "code",
   "execution_count": 3,
   "metadata": {},
   "outputs": [
    {
     "output_type": "stream",
     "name": "stdout",
     "text": [
      "[[20  5 13 23]]\n"
     ]
    }
   ],
   "source": [
    "a = np.array([(7, -1, 4, 2)])\n",
    "b = np.array([(13, 6, 9, 21)])\n",
    "c = a + b\n",
    "\n",
    "print(c)"
   ]
  },
  {
   "cell_type": "code",
   "execution_count": 4,
   "metadata": {},
   "outputs": [
    {
     "output_type": "stream",
     "name": "stdout",
     "text": [
      "[[ 3 -4 -1]\n [-6  6 10]\n [-6 -1  5]] \n\n[[82 58 21]\n [88 17  8]\n [ 8 -9 -4]]\n"
     ]
    }
   ],
   "source": [
    "A = np.array([(9, 3, 1), (2, 4, 11), (-2, 0, 5)])\n",
    "B = np.array([(6, 7, 2), (8, -2, 1), (4, 1, 0)])\n",
    "C = A - B\n",
    "d = np.dot(A, B)\n",
    "print(C, \"\\n\")\n",
    "\n",
    "print(d)"
   ]
  },
  {
   "cell_type": "code",
   "execution_count": 5,
   "metadata": {},
   "outputs": [
    {
     "output_type": "stream",
     "name": "stdout",
     "text": [
      "[[78 63]\n [39 28]]\n"
     ]
    }
   ],
   "source": [
    "A = np.array([(2, 9, 8), (1, 6, 3)])\n",
    "B = np.array([(-3, 4, 6), (7, 1, 5)])\n",
    "Bt = B.T\n",
    "\n",
    "d = np.dot(A, Bt)\n",
    "print(d)"
   ]
  },
  {
   "cell_type": "code",
   "execution_count": 6,
   "metadata": {},
   "outputs": [
    {
     "output_type": "stream",
     "name": "stdout",
     "text": [
      "[-4.  6.  1.]\n"
     ]
    }
   ],
   "source": [
    "A = np.array([[3, 2, 1], [5, 3, 4], [1, 1, -1]])\n",
    "b = np.array([1, 2, 1])\n",
    "X = np.dot((np.linalg.inv(A)),b)\n",
    "print(X)"
   ]
  },
  {
   "cell_type": "code",
   "execution_count": null,
   "metadata": {},
   "outputs": [],
   "source": []
  }
 ]
}